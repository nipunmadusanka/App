{
 "cells": [
  {
   "cell_type": "code",
   "execution_count": 11,
   "id": "5defb210",
   "metadata": {},
   "outputs": [],
   "source": [
    "import numpy as np\n",
    "import pandas as pd\n",
    "import re\n",
    "import string\n",
    "import pickle"
   ]
  },
  {
   "cell_type": "code",
   "execution_count": 12,
   "id": "5326e81f",
   "metadata": {},
   "outputs": [],
   "source": [
    "def remove_punctuations(text):\n",
    "    for punctuation in string.punctuation:\n",
    "        text = text.replace(punctuation, '')\n",
    "    return text"
   ]
  },
  {
   "cell_type": "code",
   "execution_count": 13,
   "id": "a7b59501",
   "metadata": {},
   "outputs": [],
   "source": [
    "with open('model.pickle_rf_2_2024_06', 'rb') as f:\n",
    "    model = pickle.load(f)"
   ]
  },
  {
   "cell_type": "code",
   "execution_count": null,
   "id": "68dce36b",
   "metadata": {},
   "outputs": [],
   "source": []
  },
  {
   "cell_type": "code",
   "execution_count": 14,
   "id": "faf5fe96",
   "metadata": {},
   "outputs": [],
   "source": [
    "import io\n",
    "#getting the stop words\n",
    "f_stopWords = io.open(\"StopWords_425.txt\", mode=\"r\", encoding=\"utf-16\")\n",
    "sw = []\n",
    "df_StopWordsRemoval_Sinhala = pd.DataFrame(columns=['Post', 'Label'])\n",
    "sinhala_stop_words = []\n",
    "for x in f_stopWords:\n",
    "  sw.append(x.split()[0])"
   ]
  },
  {
   "cell_type": "code",
   "execution_count": 15,
   "id": "fe607534",
   "metadata": {},
   "outputs": [],
   "source": [
    "vocab = pd.read_csv('vocabulary.txt', header=None)\n",
    "tokens = vocab[0].tolist()"
   ]
  },
  {
   "cell_type": "code",
   "execution_count": 16,
   "id": "8b780b26",
   "metadata": {},
   "outputs": [],
   "source": [
    "def preprocessing(text):\n",
    "    data = pd.DataFrame([text], columns=['Post'])\n",
    "    data[\"Post\"] = data[\"Post\"].apply(lambda x: \" \".join(x.lower() for x in x.split()))\n",
    "    data[\"Post\"] = data['Post'].apply(lambda x: \" \".join(re.sub(r'^https?:\\/\\/.*[\\r\\n]*', '', x, flags=re.MULTILINE) for x in x.split()))\n",
    "    data[\"Post\"] = data[\"Post\"].apply(remove_punctuations)\n",
    "    data[\"Post\"] = data['Post'].str.replace('\\d+', '', regex=True)\n",
    "    data[\"Post\"] = data[\"Post\"].apply(lambda x: \" \".join(x for x in x.split() if x not in sw))\n",
    "    return data[\"Post\"]"
   ]
  },
  {
   "cell_type": "code",
   "execution_count": 17,
   "id": "33e5577d",
   "metadata": {},
   "outputs": [],
   "source": [
    "def vectorizer(ds, vocabulary):\n",
    "    vectorized_lst = []\n",
    "    \n",
    "    for sentence in ds:\n",
    "        sentence_lst = np.zeros(len(vocabulary))\n",
    "        \n",
    "        for i in range(len(vocabulary)):\n",
    "            if vocabulary[i] in sentence.split():\n",
    "                sentence_lst[i] = 1\n",
    "                \n",
    "        vectorized_lst.append(sentence_lst)\n",
    "        \n",
    "    vectorized_lst_new = np.asarray(vectorized_lst, dtype=np.float32)\n",
    "    \n",
    "    return vectorized_lst_new"
   ]
  },
  {
   "cell_type": "code",
   "execution_count": 18,
   "id": "8ca05a27",
   "metadata": {},
   "outputs": [],
   "source": [
    "def get_prediction(vectorized_text):\n",
    "    prediction = model.predict(vectorized_text)\n",
    "\n",
    "    if prediction == 1:\n",
    "        return 'true'\n",
    "    else:\n",
    "        return 'false'"
   ]
  },
  {
   "cell_type": "code",
   "execution_count": 19,
   "id": "5bc0874c",
   "metadata": {},
   "outputs": [
    {
     "data": {
      "text/plain": [
       "'true'"
      ]
     },
     "execution_count": 19,
     "metadata": {},
     "output_type": "execute_result"
    }
   ],
   "source": [
    "txt = \"රනිල් වෙනුවෙන් ජනපති මැතිවරණයට සහය පැතීමට වජිර අබේවර්ධන, ඥානසාර හිමි හමුවෙයි?\"\n",
    "preprocessed_txt = preprocessing(txt)\n",
    "vectorized_txt = vectorizer(preprocessed_txt, tokens)\n",
    "prediction = get_prediction(vectorized_txt)\n",
    "prediction"
   ]
  },
  {
   "cell_type": "code",
   "execution_count": null,
   "id": "f42fb803",
   "metadata": {},
   "outputs": [],
   "source": []
  },
  {
   "cell_type": "code",
   "execution_count": null,
   "id": "c5b9d692",
   "metadata": {},
   "outputs": [],
   "source": []
  }
 ],
 "metadata": {
  "kernelspec": {
   "display_name": "Python 3 (ipykernel)",
   "language": "python",
   "name": "python3"
  },
  "language_info": {
   "codemirror_mode": {
    "name": "ipython",
    "version": 3
   },
   "file_extension": ".py",
   "mimetype": "text/x-python",
   "name": "python",
   "nbconvert_exporter": "python",
   "pygments_lexer": "ipython3",
   "version": "3.9.7"
  }
 },
 "nbformat": 4,
 "nbformat_minor": 5
}
